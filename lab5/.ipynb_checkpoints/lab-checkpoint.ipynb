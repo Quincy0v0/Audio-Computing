{
 "cells": [
  {
   "cell_type": "code",
   "execution_count": 7,
   "metadata": {},
   "outputs": [],
   "source": [
    "import numpy as np\n",
    "import IPython\n",
    "import math\n",
    "import matplotlib.pyplot as mp\n",
    "from scipy.io.wavfile import read as wavread"
   ]
  },
  {
   "cell_type": "code",
   "execution_count": 2,
   "metadata": {},
   "outputs": [],
   "source": [
    "rate, wav = wavread(\"./data/array.wav\")"
   ]
  },
  {
   "cell_type": "markdown",
   "metadata": {},
   "source": [
    "# Part I "
   ]
  },
  {
   "cell_type": "code",
   "execution_count": 73,
   "metadata": {},
   "outputs": [],
   "source": [
    "C = 345\n",
    "r = 0.1\n",
    "mic_num = 8\n",
    "angle_num = 90\n",
    "freq_num = 513\n",
    "N = 1024\n",
    "R = rate"
   ]
  },
  {
   "cell_type": "code",
   "execution_count": 86,
   "metadata": {},
   "outputs": [],
   "source": [
    "steering_vector = np.zeros((angle_num, mic_num, freq_num), np.complex64)\n",
    "for theta_id in range(angle_num):\n",
    "    for m in range(mic_num):\n",
    "        for k in range(freq_num):\n",
    "            theta = theta_id * math.pi / angle_num\n",
    "            steering_vector[theta_id, m, k] = np.exp(-1j * (m-1) * r * math.cos(theta) / C * R * math.pi * k/ N)"
   ]
  },
  {
   "cell_type": "markdown",
   "metadata": {},
   "source": [
    "# Part II"
   ]
  },
  {
   "cell_type": "code",
   "execution_count": 75,
   "metadata": {},
   "outputs": [],
   "source": [
    "def stft(input_sound, dft_size, hop_size, zero_pad, window):\n",
    "    if input_sound.ndim == 1:\n",
    "        sample_num = math.floor(len(input_sound)/hop_size)+1\n",
    "        result = []\n",
    "        for i in range(sample_num):            \n",
    "            dft_sample = []\n",
    "            dft_sample = input_sound[i * hop_size: min(i * hop_size + dft_size, len(input_sound)-1)]\n",
    "            if len(dft_sample) < dft_size:\n",
    "                dft_sample = np.append(dft_sample,np.zeros(dft_size-len(dft_sample)))            \n",
    "            windowed_sample = np.multiply(dft_sample, window)\n",
    "            fft_result = np.fft.rfft(windowed_sample,dft_size+zero_pad)\n",
    "            result.append(fft_result)    \n",
    "        return np.array(result)\n",
    "    elif input_sound.ndim == 2:\n",
    "        sample_num = input_sound.shape[0]\n",
    "        length = (sample_num-1) * hop_size + dft_size\n",
    "        result = np.zeros(length)\n",
    "        add_time = np.zeros(length)\n",
    "        for i in range(sample_num):\n",
    "            ifft_result = np.fft.irfft(input_sound[i], dft_size + zero_pad)\n",
    "            unwindowed_sample = np.multiply(ifft_result[:dft_size], window)\n",
    "            start = i*hop_size\n",
    "            for j in range(dft_size):\n",
    "                result[start+j] += unwindowed_sample[j]\n",
    "        return result\n",
    "    else:\n",
    "        print(\"invalid input\")   \n",
    "        return"
   ]
  },
  {
   "cell_type": "code",
   "execution_count": 91,
   "metadata": {},
   "outputs": [],
   "source": [
    "dft_size = 1024\n",
    "hope_size = 256\n",
    "zero_pad = 0\n",
    "window = np.hanning(dft_size)"
   ]
  },
  {
   "cell_type": "code",
   "execution_count": 92,
   "metadata": {},
   "outputs": [],
   "source": [
    "mss = np.zeros(angle_num)\n",
    "for theta_id in range(angle_num):\n",
    "    fqm = np.zeros(freq_num, complex)\n",
    "    for mic_id in range(mic_num):\n",
    "        fqm_channel = stft(wav[mic_id], dft_size, hope_size, zero_pad, window)\n",
    "        fqm_channel_shftd = np.multiply(fqm_channel, np.conj(steering_vector[theta_id, mic_id]))\n",
    "        fqm = np.add(fqm, fqm_channel_shftd)\n",
    "    mss[theta_id] = np.real(np.sum(np.multiply(fqm, np.conj(fqm)))) / freq_num"
   ]
  },
  {
   "cell_type": "code",
   "execution_count": 88,
   "metadata": {},
   "outputs": [
    {
     "data": {
      "image/png": "[encoded data removed]",
      "text/plain": [
       "<Figure size 432x288 with 1 Axes>"
      ]
     },
     "metadata": {
      "needs_background": "light"
     },
     "output_type": "display_data"
    }
   ],
   "source": [
    "angle = np.linspace(0, 180, angle_num)\n",
    "mp.plot(angle, mss)\n",
    "mp.xlabel(\"angle\")\n",
    "mp.ylabel(\"response\")\n",
    "#mp.grid(axis = 'x')\n",
    "mp.show()"
   ]
  },
  {
   "cell_type": "code",
   "execution_count": 83,
   "metadata": {},
   "outputs": [
    {
     "name": "stdout",
     "output_type": "stream",
     "text": [
      "245.88622633900658\n"
     ]
    }
   ],
   "source": [
    "print(mss[44])"
   ]
  },
  {
   "cell_type": "code",
   "execution_count": null,
   "metadata": {},
   "outputs": [],
   "source": []
  }
 ],
 "metadata": {
  "kernelspec": {
   "display_name": "Python 3",
   "language": "python",
   "name": "python3"
  },
  "language_info": {
   "codemirror_mode": {
    "name": "ipython",
    "version": 3
   },
   "file_extension": ".py",
   "mimetype": "text/x-python",
   "name": "python",
   "nbconvert_exporter": "python",
   "pygments_lexer": "ipython3",
   "version": "3.6.5"
  }
 },
 "nbformat": 4,
 "nbformat_minor": 2
}
